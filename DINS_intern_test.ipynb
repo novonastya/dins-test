{
 "cells": [
  {
   "cell_type": "markdown",
   "metadata": {},
   "source": [
    "You expect to have an encrypted message(report) from distant planet (See var_n values in the test file). \n",
    "\n",
    "It contains few issues to report on and you should find out :\n",
    "\n",
    "1) how many issues it contains (themes)\n",
    "\n",
    "2) label each message to a theme to have brief understanding of what's happening\n",
    "\n",
    "After some time you receive the correct labels(See 'label' field in the csv file). \n",
    "\n",
    "It will be an good practice to compare the results and to make a predictor which will be useful for further labeling\n",
    "\n",
    "You need to explain how did you found the right amount of clusters, and send out the output of the check functions\n",
    "\n",
    "Hint:\n",
    "You may find python libraries like pandas, numpy and sklearn to be quiet useful to solve this task"
   ]
  },
  {
   "cell_type": "code",
   "execution_count": 1,
   "metadata": {
    "collapsed": true
   },
   "outputs": [],
   "source": [
    "import pandas as pd\n",
    "import numpy as np"
   ]
  },
  {
   "cell_type": "code",
   "execution_count": 2,
   "metadata": {
    "collapsed": true
   },
   "outputs": [],
   "source": [
    "#Загрузим и посмотрим на данные\n",
    "data = pd.read_csv('test_data.csv')"
   ]
  },
  {
   "cell_type": "code",
   "execution_count": 3,
   "metadata": {},
   "outputs": [
    {
     "data": {
      "text/html": [
       "<div>\n",
       "<style scoped>\n",
       "    .dataframe tbody tr th:only-of-type {\n",
       "        vertical-align: middle;\n",
       "    }\n",
       "\n",
       "    .dataframe tbody tr th {\n",
       "        vertical-align: top;\n",
       "    }\n",
       "\n",
       "    .dataframe thead th {\n",
       "        text-align: right;\n",
       "    }\n",
       "</style>\n",
       "<table border=\"1\" class=\"dataframe\">\n",
       "  <thead>\n",
       "    <tr style=\"text-align: right;\">\n",
       "      <th></th>\n",
       "      <th>Unnamed: 0</th>\n",
       "      <th>target</th>\n",
       "      <th>var_0</th>\n",
       "      <th>var_1</th>\n",
       "      <th>var_2</th>\n",
       "      <th>var_3</th>\n",
       "      <th>var_4</th>\n",
       "      <th>var_5</th>\n",
       "      <th>var_6</th>\n",
       "      <th>var_7</th>\n",
       "      <th>...</th>\n",
       "      <th>var_40</th>\n",
       "      <th>var_41</th>\n",
       "      <th>var_42</th>\n",
       "      <th>var_43</th>\n",
       "      <th>var_44</th>\n",
       "      <th>var_45</th>\n",
       "      <th>var_46</th>\n",
       "      <th>var_47</th>\n",
       "      <th>var_48</th>\n",
       "      <th>var_49</th>\n",
       "    </tr>\n",
       "  </thead>\n",
       "  <tbody>\n",
       "    <tr>\n",
       "      <th>0</th>\n",
       "      <td>0</td>\n",
       "      <td>0</td>\n",
       "      <td>-0.480060</td>\n",
       "      <td>0.176260</td>\n",
       "      <td>0.198378</td>\n",
       "      <td>0.436684</td>\n",
       "      <td>0.172947</td>\n",
       "      <td>0.027392</td>\n",
       "      <td>-0.707964</td>\n",
       "      <td>0.320470</td>\n",
       "      <td>...</td>\n",
       "      <td>-0.302409</td>\n",
       "      <td>-0.297128</td>\n",
       "      <td>-0.096548</td>\n",
       "      <td>0.139542</td>\n",
       "      <td>-0.145355</td>\n",
       "      <td>0.395182</td>\n",
       "      <td>0.082721</td>\n",
       "      <td>0.005400</td>\n",
       "      <td>-0.026441</td>\n",
       "      <td>-0.108023</td>\n",
       "    </tr>\n",
       "    <tr>\n",
       "      <th>1</th>\n",
       "      <td>1</td>\n",
       "      <td>0</td>\n",
       "      <td>-0.314651</td>\n",
       "      <td>-0.134033</td>\n",
       "      <td>-0.222847</td>\n",
       "      <td>-0.013558</td>\n",
       "      <td>0.016558</td>\n",
       "      <td>0.365967</td>\n",
       "      <td>-0.552682</td>\n",
       "      <td>-0.000281</td>\n",
       "      <td>...</td>\n",
       "      <td>-0.042050</td>\n",
       "      <td>0.095499</td>\n",
       "      <td>-0.255792</td>\n",
       "      <td>-0.017712</td>\n",
       "      <td>-0.190932</td>\n",
       "      <td>0.082872</td>\n",
       "      <td>0.441845</td>\n",
       "      <td>0.110383</td>\n",
       "      <td>0.031139</td>\n",
       "      <td>0.039577</td>\n",
       "    </tr>\n",
       "    <tr>\n",
       "      <th>2</th>\n",
       "      <td>2</td>\n",
       "      <td>0</td>\n",
       "      <td>-0.300815</td>\n",
       "      <td>-0.084558</td>\n",
       "      <td>0.181238</td>\n",
       "      <td>0.005055</td>\n",
       "      <td>0.313164</td>\n",
       "      <td>0.112452</td>\n",
       "      <td>-0.635594</td>\n",
       "      <td>0.402153</td>\n",
       "      <td>...</td>\n",
       "      <td>0.449078</td>\n",
       "      <td>0.534868</td>\n",
       "      <td>-0.110871</td>\n",
       "      <td>-0.540410</td>\n",
       "      <td>-0.421506</td>\n",
       "      <td>0.294148</td>\n",
       "      <td>0.123150</td>\n",
       "      <td>-0.076787</td>\n",
       "      <td>0.126006</td>\n",
       "      <td>0.108019</td>\n",
       "    </tr>\n",
       "    <tr>\n",
       "      <th>3</th>\n",
       "      <td>3</td>\n",
       "      <td>0</td>\n",
       "      <td>-0.278396</td>\n",
       "      <td>0.168551</td>\n",
       "      <td>0.179791</td>\n",
       "      <td>0.039391</td>\n",
       "      <td>0.492830</td>\n",
       "      <td>0.185413</td>\n",
       "      <td>-0.388475</td>\n",
       "      <td>0.083588</td>\n",
       "      <td>...</td>\n",
       "      <td>0.159299</td>\n",
       "      <td>0.171783</td>\n",
       "      <td>-0.139541</td>\n",
       "      <td>-0.078331</td>\n",
       "      <td>-0.371579</td>\n",
       "      <td>0.283624</td>\n",
       "      <td>0.286695</td>\n",
       "      <td>0.068057</td>\n",
       "      <td>0.146644</td>\n",
       "      <td>0.114814</td>\n",
       "    </tr>\n",
       "    <tr>\n",
       "      <th>4</th>\n",
       "      <td>4</td>\n",
       "      <td>0</td>\n",
       "      <td>-0.252944</td>\n",
       "      <td>0.385547</td>\n",
       "      <td>-0.134255</td>\n",
       "      <td>0.069152</td>\n",
       "      <td>0.197859</td>\n",
       "      <td>0.296981</td>\n",
       "      <td>-0.387140</td>\n",
       "      <td>0.447478</td>\n",
       "      <td>...</td>\n",
       "      <td>-0.090061</td>\n",
       "      <td>-0.092603</td>\n",
       "      <td>-0.152751</td>\n",
       "      <td>-0.058263</td>\n",
       "      <td>-0.283934</td>\n",
       "      <td>0.223888</td>\n",
       "      <td>0.114866</td>\n",
       "      <td>0.059671</td>\n",
       "      <td>-0.033000</td>\n",
       "      <td>-0.073733</td>\n",
       "    </tr>\n",
       "  </tbody>\n",
       "</table>\n",
       "<p>5 rows × 52 columns</p>\n",
       "</div>"
      ],
      "text/plain": [
       "   Unnamed: 0  target     var_0     var_1     var_2     var_3     var_4  \\\n",
       "0           0       0 -0.480060  0.176260  0.198378  0.436684  0.172947   \n",
       "1           1       0 -0.314651 -0.134033 -0.222847 -0.013558  0.016558   \n",
       "2           2       0 -0.300815 -0.084558  0.181238  0.005055  0.313164   \n",
       "3           3       0 -0.278396  0.168551  0.179791  0.039391  0.492830   \n",
       "4           4       0 -0.252944  0.385547 -0.134255  0.069152  0.197859   \n",
       "\n",
       "      var_5     var_6     var_7  ...    var_40    var_41    var_42    var_43  \\\n",
       "0  0.027392 -0.707964  0.320470  ... -0.302409 -0.297128 -0.096548  0.139542   \n",
       "1  0.365967 -0.552682 -0.000281  ... -0.042050  0.095499 -0.255792 -0.017712   \n",
       "2  0.112452 -0.635594  0.402153  ...  0.449078  0.534868 -0.110871 -0.540410   \n",
       "3  0.185413 -0.388475  0.083588  ...  0.159299  0.171783 -0.139541 -0.078331   \n",
       "4  0.296981 -0.387140  0.447478  ... -0.090061 -0.092603 -0.152751 -0.058263   \n",
       "\n",
       "     var_44    var_45    var_46    var_47    var_48    var_49  \n",
       "0 -0.145355  0.395182  0.082721  0.005400 -0.026441 -0.108023  \n",
       "1 -0.190932  0.082872  0.441845  0.110383  0.031139  0.039577  \n",
       "2 -0.421506  0.294148  0.123150 -0.076787  0.126006  0.108019  \n",
       "3 -0.371579  0.283624  0.286695  0.068057  0.146644  0.114814  \n",
       "4 -0.283934  0.223888  0.114866  0.059671 -0.033000 -0.073733  \n",
       "\n",
       "[5 rows x 52 columns]"
      ]
     },
     "execution_count": 3,
     "metadata": {},
     "output_type": "execute_result"
    }
   ],
   "source": [
    "data.head()"
   ]
  },
  {
   "cell_type": "code",
   "execution_count": 4,
   "metadata": {
    "collapsed": true
   },
   "outputs": [],
   "source": [
    "#Удалим 1ый столбец с номерами строк\n",
    "data.drop(data.columns[0], axis=1, inplace=True)"
   ]
  },
  {
   "cell_type": "code",
   "execution_count": 5,
   "metadata": {},
   "outputs": [
    {
     "data": {
      "text/html": [
       "<div>\n",
       "<style scoped>\n",
       "    .dataframe tbody tr th:only-of-type {\n",
       "        vertical-align: middle;\n",
       "    }\n",
       "\n",
       "    .dataframe tbody tr th {\n",
       "        vertical-align: top;\n",
       "    }\n",
       "\n",
       "    .dataframe thead th {\n",
       "        text-align: right;\n",
       "    }\n",
       "</style>\n",
       "<table border=\"1\" class=\"dataframe\">\n",
       "  <thead>\n",
       "    <tr style=\"text-align: right;\">\n",
       "      <th></th>\n",
       "      <th>target</th>\n",
       "      <th>var_0</th>\n",
       "      <th>var_1</th>\n",
       "      <th>var_2</th>\n",
       "      <th>var_3</th>\n",
       "      <th>var_4</th>\n",
       "      <th>var_5</th>\n",
       "      <th>var_6</th>\n",
       "      <th>var_7</th>\n",
       "      <th>var_8</th>\n",
       "      <th>...</th>\n",
       "      <th>var_40</th>\n",
       "      <th>var_41</th>\n",
       "      <th>var_42</th>\n",
       "      <th>var_43</th>\n",
       "      <th>var_44</th>\n",
       "      <th>var_45</th>\n",
       "      <th>var_46</th>\n",
       "      <th>var_47</th>\n",
       "      <th>var_48</th>\n",
       "      <th>var_49</th>\n",
       "    </tr>\n",
       "  </thead>\n",
       "  <tbody>\n",
       "    <tr>\n",
       "      <th>0</th>\n",
       "      <td>0</td>\n",
       "      <td>-0.480060</td>\n",
       "      <td>0.176260</td>\n",
       "      <td>0.198378</td>\n",
       "      <td>0.436684</td>\n",
       "      <td>0.172947</td>\n",
       "      <td>0.027392</td>\n",
       "      <td>-0.707964</td>\n",
       "      <td>0.320470</td>\n",
       "      <td>-0.233182</td>\n",
       "      <td>...</td>\n",
       "      <td>-0.302409</td>\n",
       "      <td>-0.297128</td>\n",
       "      <td>-0.096548</td>\n",
       "      <td>0.139542</td>\n",
       "      <td>-0.145355</td>\n",
       "      <td>0.395182</td>\n",
       "      <td>0.082721</td>\n",
       "      <td>0.005400</td>\n",
       "      <td>-0.026441</td>\n",
       "      <td>-0.108023</td>\n",
       "    </tr>\n",
       "    <tr>\n",
       "      <th>1</th>\n",
       "      <td>0</td>\n",
       "      <td>-0.314651</td>\n",
       "      <td>-0.134033</td>\n",
       "      <td>-0.222847</td>\n",
       "      <td>-0.013558</td>\n",
       "      <td>0.016558</td>\n",
       "      <td>0.365967</td>\n",
       "      <td>-0.552682</td>\n",
       "      <td>-0.000281</td>\n",
       "      <td>-0.167029</td>\n",
       "      <td>...</td>\n",
       "      <td>-0.042050</td>\n",
       "      <td>0.095499</td>\n",
       "      <td>-0.255792</td>\n",
       "      <td>-0.017712</td>\n",
       "      <td>-0.190932</td>\n",
       "      <td>0.082872</td>\n",
       "      <td>0.441845</td>\n",
       "      <td>0.110383</td>\n",
       "      <td>0.031139</td>\n",
       "      <td>0.039577</td>\n",
       "    </tr>\n",
       "    <tr>\n",
       "      <th>2</th>\n",
       "      <td>0</td>\n",
       "      <td>-0.300815</td>\n",
       "      <td>-0.084558</td>\n",
       "      <td>0.181238</td>\n",
       "      <td>0.005055</td>\n",
       "      <td>0.313164</td>\n",
       "      <td>0.112452</td>\n",
       "      <td>-0.635594</td>\n",
       "      <td>0.402153</td>\n",
       "      <td>-0.439029</td>\n",
       "      <td>...</td>\n",
       "      <td>0.449078</td>\n",
       "      <td>0.534868</td>\n",
       "      <td>-0.110871</td>\n",
       "      <td>-0.540410</td>\n",
       "      <td>-0.421506</td>\n",
       "      <td>0.294148</td>\n",
       "      <td>0.123150</td>\n",
       "      <td>-0.076787</td>\n",
       "      <td>0.126006</td>\n",
       "      <td>0.108019</td>\n",
       "    </tr>\n",
       "    <tr>\n",
       "      <th>3</th>\n",
       "      <td>0</td>\n",
       "      <td>-0.278396</td>\n",
       "      <td>0.168551</td>\n",
       "      <td>0.179791</td>\n",
       "      <td>0.039391</td>\n",
       "      <td>0.492830</td>\n",
       "      <td>0.185413</td>\n",
       "      <td>-0.388475</td>\n",
       "      <td>0.083588</td>\n",
       "      <td>-0.186267</td>\n",
       "      <td>...</td>\n",
       "      <td>0.159299</td>\n",
       "      <td>0.171783</td>\n",
       "      <td>-0.139541</td>\n",
       "      <td>-0.078331</td>\n",
       "      <td>-0.371579</td>\n",
       "      <td>0.283624</td>\n",
       "      <td>0.286695</td>\n",
       "      <td>0.068057</td>\n",
       "      <td>0.146644</td>\n",
       "      <td>0.114814</td>\n",
       "    </tr>\n",
       "    <tr>\n",
       "      <th>4</th>\n",
       "      <td>0</td>\n",
       "      <td>-0.252944</td>\n",
       "      <td>0.385547</td>\n",
       "      <td>-0.134255</td>\n",
       "      <td>0.069152</td>\n",
       "      <td>0.197859</td>\n",
       "      <td>0.296981</td>\n",
       "      <td>-0.387140</td>\n",
       "      <td>0.447478</td>\n",
       "      <td>-0.432704</td>\n",
       "      <td>...</td>\n",
       "      <td>-0.090061</td>\n",
       "      <td>-0.092603</td>\n",
       "      <td>-0.152751</td>\n",
       "      <td>-0.058263</td>\n",
       "      <td>-0.283934</td>\n",
       "      <td>0.223888</td>\n",
       "      <td>0.114866</td>\n",
       "      <td>0.059671</td>\n",
       "      <td>-0.033000</td>\n",
       "      <td>-0.073733</td>\n",
       "    </tr>\n",
       "  </tbody>\n",
       "</table>\n",
       "<p>5 rows × 51 columns</p>\n",
       "</div>"
      ],
      "text/plain": [
       "   target     var_0     var_1     var_2     var_3     var_4     var_5  \\\n",
       "0       0 -0.480060  0.176260  0.198378  0.436684  0.172947  0.027392   \n",
       "1       0 -0.314651 -0.134033 -0.222847 -0.013558  0.016558  0.365967   \n",
       "2       0 -0.300815 -0.084558  0.181238  0.005055  0.313164  0.112452   \n",
       "3       0 -0.278396  0.168551  0.179791  0.039391  0.492830  0.185413   \n",
       "4       0 -0.252944  0.385547 -0.134255  0.069152  0.197859  0.296981   \n",
       "\n",
       "      var_6     var_7     var_8  ...    var_40    var_41    var_42    var_43  \\\n",
       "0 -0.707964  0.320470 -0.233182  ... -0.302409 -0.297128 -0.096548  0.139542   \n",
       "1 -0.552682 -0.000281 -0.167029  ... -0.042050  0.095499 -0.255792 -0.017712   \n",
       "2 -0.635594  0.402153 -0.439029  ...  0.449078  0.534868 -0.110871 -0.540410   \n",
       "3 -0.388475  0.083588 -0.186267  ...  0.159299  0.171783 -0.139541 -0.078331   \n",
       "4 -0.387140  0.447478 -0.432704  ... -0.090061 -0.092603 -0.152751 -0.058263   \n",
       "\n",
       "     var_44    var_45    var_46    var_47    var_48    var_49  \n",
       "0 -0.145355  0.395182  0.082721  0.005400 -0.026441 -0.108023  \n",
       "1 -0.190932  0.082872  0.441845  0.110383  0.031139  0.039577  \n",
       "2 -0.421506  0.294148  0.123150 -0.076787  0.126006  0.108019  \n",
       "3 -0.371579  0.283624  0.286695  0.068057  0.146644  0.114814  \n",
       "4 -0.283934  0.223888  0.114866  0.059671 -0.033000 -0.073733  \n",
       "\n",
       "[5 rows x 51 columns]"
      ]
     },
     "execution_count": 5,
     "metadata": {},
     "output_type": "execute_result"
    }
   ],
   "source": [
    "data.head()"
   ]
  },
  {
   "cell_type": "code",
   "execution_count": 6,
   "metadata": {},
   "outputs": [
    {
     "data": {
      "text/plain": [
       "(16, 51)"
      ]
     },
     "execution_count": 6,
     "metadata": {},
     "output_type": "execute_result"
    }
   ],
   "source": [
    "data.shape"
   ]
  },
  {
   "cell_type": "markdown",
   "metadata": {},
   "source": [
    "Видим, что примеров мало."
   ]
  },
  {
   "cell_type": "code",
   "execution_count": 7,
   "metadata": {
    "collapsed": true
   },
   "outputs": [],
   "source": [
    "#Выделим правильные метки\n",
    "target = data.loc[:, 'target'].to_numpy()"
   ]
  },
  {
   "cell_type": "code",
   "execution_count": 8,
   "metadata": {
    "collapsed": true
   },
   "outputs": [],
   "source": [
    "#Выделим фичи\n",
    "X = data.loc[:, 'var_0':].to_numpy()"
   ]
  },
  {
   "cell_type": "markdown",
   "metadata": {},
   "source": [
    "Для определения количества кластеров понизим размерность до 2х с помощью PCA и построим точки на плоскости."
   ]
  },
  {
   "cell_type": "code",
   "execution_count": 9,
   "metadata": {
    "collapsed": true
   },
   "outputs": [],
   "source": [
    "from sklearn import decomposition"
   ]
  },
  {
   "cell_type": "code",
   "execution_count": 10,
   "metadata": {},
   "outputs": [
    {
     "name": "stdout",
     "output_type": "stream",
     "text": [
      "Populating the interactive namespace from numpy and matplotlib\n"
     ]
    }
   ],
   "source": [
    "%pylab inline"
   ]
  },
  {
   "cell_type": "code",
   "execution_count": 11,
   "metadata": {},
   "outputs": [
    {
     "data": {
      "text/plain": [
       "[<matplotlib.lines.Line2D at 0x2596ba96780>]"
      ]
     },
     "execution_count": 11,
     "metadata": {},
     "output_type": "execute_result"
    },
    {
     "data": {
      "image/png": "[encoded data removed]",
      "text/plain": [
       "<matplotlib.figure.Figure at 0x2596916cb38>"
      ]
     },
     "metadata": {},
     "output_type": "display_data"
    }
   ],
   "source": [
    "# Уменьшим размерность пространства до 2 с помощью PCA и визуализируем\n",
    "pca = decomposition.PCA(n_components=2)\n",
    "X_centered = X - X.mean(axis=0)\n",
    "pca.fit(X_centered)\n",
    "X_pca = pca.transform(X_centered)\n",
    "\n",
    "plt.plot(X_pca[:, 0], X_pca[:, 1], 'o')"
   ]
  },
  {
   "cell_type": "markdown",
   "metadata": {
    "collapsed": true
   },
   "source": [
    "Визуально можно выделить 3-4 кластера."
   ]
  },
  {
   "cell_type": "code",
   "execution_count": 12,
   "metadata": {
    "collapsed": true
   },
   "outputs": [],
   "source": [
    "from sklearn.cluster import KMeans"
   ]
  },
  {
   "cell_type": "markdown",
   "metadata": {},
   "source": [
    "Для определения числа кластеров ещё можно воспользоваться правилом локтя"
   ]
  },
  {
   "cell_type": "code",
   "execution_count": 13,
   "metadata": {},
   "outputs": [
    {
     "data": {
      "image/png": "[encoded data removed]",
      "text/plain": [
       "<matplotlib.figure.Figure at 0x2596c026668>"
      ]
     },
     "metadata": {},
     "output_type": "display_data"
    }
   ],
   "source": [
    "inertia = []\n",
    "for k in range(1,9):\n",
    "    clustering = KMeans(n_clusters=k, random_state=42).fit(X)\n",
    "    inertia.append(np.sqrt(clustering.inertia_))\n",
    "\n",
    "plt.plot(range(1, 9), inertia, marker='s');\n",
    "plt.xlabel('k')\n",
    "plt.ylabel('loss');"
   ]
  },
  {
   "cell_type": "markdown",
   "metadata": {},
   "source": [
    "Видим, что скорость убывания уже спадает при k = 3. Попробуем применить алгоритм k-means при k = 3."
   ]
  },
  {
   "cell_type": "code",
   "execution_count": 14,
   "metadata": {
    "collapsed": true
   },
   "outputs": [],
   "source": [
    "clustering = KMeans(n_clusters=3).fit(X)"
   ]
  },
  {
   "cell_type": "code",
   "execution_count": 15,
   "metadata": {},
   "outputs": [
    {
     "name": "stdout",
     "output_type": "stream",
     "text": [
      "[0 0 0 0 0 0 0 0 1 1 1 1 1 2 2 2]\n"
     ]
    }
   ],
   "source": [
    "print(target)"
   ]
  },
  {
   "cell_type": "code",
   "execution_count": 16,
   "metadata": {},
   "outputs": [
    {
     "name": "stdout",
     "output_type": "stream",
     "text": [
      "[1 1 1 1 1 1 1 2 2 2 2 2 2 0 0 0]\n"
     ]
    }
   ],
   "source": [
    "print(clustering.labels_)"
   ]
  },
  {
   "cell_type": "markdown",
   "metadata": {},
   "source": [
    "Всего один объект из выборки попадает не в тот кластер. Совсем неплохо :)"
   ]
  },
  {
   "cell_type": "code",
   "execution_count": 17,
   "metadata": {
    "collapsed": true
   },
   "outputs": [],
   "source": [
    "from sklearn.metrics import homogeneity_score\n",
    "from sklearn.metrics import accuracy_score, balanced_accuracy_score, zero_one_loss, classification_report \n",
    "\n",
    "def unsupervised_results(predicted_labels_unsupervised, recieved_labels):\n",
    "    print(homogeneity_score(predicted_labels_unsupervised, recieved_labels))\n",
    "\n",
    "\n",
    "def accuracy_check(model, x_test, y_test):\n",
    "#     Load here the model and validation set data to test\n",
    "    # test accuracy\n",
    "    y_pred_ts = model.predict(x_test)\n",
    "    predictions_ts = [round(value) for value in y_pred_ts]\n",
    "    accuracy2 = accuracy_score(y_test, predictions_ts)\n",
    "    print(\"Accuracy on test: %.2f%%\" % (accuracy2 * 100.0))\n",
    "    baccuracy2 = balanced_accuracy_score(y_test, predictions_ts)\n",
    "    print(\"Balanced Accuracy on test: %.2f%%\" % (baccuracy2 * 100.0))\n",
    "    z12 = zero_one_loss(y_test, predictions_ts)\n",
    "    print(\"Zero One Loss on test: %.2f%%\" % (z12 * 100))\n",
    "    class_rep2 = classification_report(y_test, predictions_ts)\n",
    "    print(class_rep2)"
   ]
  },
  {
   "cell_type": "code",
   "execution_count": 18,
   "metadata": {},
   "outputs": [
    {
     "name": "stdout",
     "output_type": "stream",
     "text": [
      "0.834988083757\n"
     ]
    }
   ],
   "source": [
    "unsupervised_results(target, clustering.labels_)"
   ]
  },
  {
   "cell_type": "markdown",
   "metadata": {},
   "source": [
    "Теперь создадим классификатор. \n",
    "Для начала посмотрим на размеченный датасет."
   ]
  },
  {
   "cell_type": "code",
   "execution_count": 19,
   "metadata": {
    "collapsed": true
   },
   "outputs": [],
   "source": [
    "# Уменьшим размерность пространства до 2 с помощью PCA и визуализируем\n",
    "pca = decomposition.PCA(n_components=2)\n",
    "X_centered = X - X.mean(axis=0)\n",
    "pca.fit(X_centered)\n",
    "X_pca = pca.transform(X_centered)"
   ]
  },
  {
   "cell_type": "code",
   "execution_count": 20,
   "metadata": {},
   "outputs": [
    {
     "data": {
      "text/plain": [
       "[<matplotlib.lines.Line2D at 0x2596cdb3908>]"
      ]
     },
     "execution_count": 20,
     "metadata": {},
     "output_type": "execute_result"
    },
    {
     "data": {
      "image/png": "[encoded data removed]",
      "text/plain": [
       "<matplotlib.figure.Figure at 0x2596ccfde10>"
      ]
     },
     "metadata": {},
     "output_type": "display_data"
    }
   ],
   "source": [
    "plt.plot(X_pca[target==0, 0], X_pca[target==0, 1], 'go')\n",
    "plt.plot(X_pca[target==1, 0], X_pca[target==1, 1], 'ro')\n",
    "plt.plot(X_pca[target==2, 0], X_pca[target==2, 1], 'bo')"
   ]
  },
  {
   "cell_type": "markdown",
   "metadata": {},
   "source": [
    "Видно, что в целом данные разделимы. Попробуем использовать классификатор kNN. Применим его к данным с пониженной размерностью."
   ]
  },
  {
   "cell_type": "code",
   "execution_count": 21,
   "metadata": {
    "collapsed": true
   },
   "outputs": [],
   "source": [
    "from sklearn import model_selection, neighbors"
   ]
  },
  {
   "cell_type": "markdown",
   "metadata": {},
   "source": [
    "Разобьем данные на тренировочные и валидацию. Т.к. классы несбалансированы, используем стратификацию."
   ]
  },
  {
   "cell_type": "code",
   "execution_count": 22,
   "metadata": {
    "collapsed": true
   },
   "outputs": [],
   "source": [
    "X_train, X_val, y_train, y_val = model_selection.train_test_split(X_pca, target, shuffle=True, random_state = 42, test_size=0.3, stratify=target)"
   ]
  },
  {
   "cell_type": "markdown",
   "metadata": {},
   "source": [
    "Исходя из картинки хорошо должен сработать вообще самый простой 1-NN. Данных у нас мало."
   ]
  },
  {
   "cell_type": "code",
   "execution_count": 29,
   "metadata": {
    "collapsed": true
   },
   "outputs": [],
   "source": [
    "model = neighbors.KNeighborsClassifier(n_neighbors = 1)"
   ]
  },
  {
   "cell_type": "markdown",
   "metadata": {},
   "source": [
    "Оценим качество с помощью кросс-валидации по 2 фолдам, т.к. есть немногочисленные классы."
   ]
  },
  {
   "cell_type": "code",
   "execution_count": 30,
   "metadata": {},
   "outputs": [
    {
     "data": {
      "text/plain": [
       "0.65000000000000002"
      ]
     },
     "execution_count": 30,
     "metadata": {},
     "output_type": "execute_result"
    }
   ],
   "source": [
    "model_selection.cross_val_score(estimator=model, X=X_train, y=y_train, cv=2).mean()"
   ]
  },
  {
   "cell_type": "markdown",
   "metadata": {},
   "source": [
    "Без комментариев :)"
   ]
  },
  {
   "cell_type": "code",
   "execution_count": 31,
   "metadata": {},
   "outputs": [
    {
     "data": {
      "text/plain": [
       "KNeighborsClassifier(algorithm='auto', leaf_size=30, metric='minkowski',\n",
       "                     metric_params=None, n_jobs=None, n_neighbors=3, p=2,\n",
       "                     weights='uniform')"
      ]
     },
     "execution_count": 31,
     "metadata": {},
     "output_type": "execute_result"
    }
   ],
   "source": [
    "model.fit(X_train, y_train)"
   ]
  },
  {
   "cell_type": "markdown",
   "metadata": {},
   "source": [
    "Посмотрим на предсказания на валидации."
   ]
  },
  {
   "cell_type": "code",
   "execution_count": 32,
   "metadata": {},
   "outputs": [
    {
     "data": {
      "text/plain": [
       "array([0, 1, 0, 1, 0], dtype=int64)"
      ]
     },
     "execution_count": 32,
     "metadata": {},
     "output_type": "execute_result"
    }
   ],
   "source": [
    "model.predict(X_val)"
   ]
  },
  {
   "cell_type": "code",
   "execution_count": 33,
   "metadata": {},
   "outputs": [
    {
     "name": "stdout",
     "output_type": "stream",
     "text": [
      "[2 1 0 1 0]\n"
     ]
    }
   ],
   "source": [
    "print(y_val)"
   ]
  },
  {
   "cell_type": "code",
   "execution_count": 28,
   "metadata": {},
   "outputs": [
    {
     "name": "stdout",
     "output_type": "stream",
     "text": [
      "Accuracy on test: 80.00%\n",
      "Balanced Accuracy on test: 83.33%\n",
      "Zero One Loss on test: 20.00%\n",
      "              precision    recall  f1-score   support\n",
      "\n",
      "           0       0.67      1.00      0.80         2\n",
      "           1       1.00      0.50      0.67         2\n",
      "           2       1.00      1.00      1.00         1\n",
      "\n",
      "    accuracy                           0.80         5\n",
      "   macro avg       0.89      0.83      0.82         5\n",
      "weighted avg       0.87      0.80      0.79         5\n",
      "\n"
     ]
    }
   ],
   "source": [
    "accuracy_check(model, X_val, y_val)"
   ]
  }
 ],
 "metadata": {
  "kernelspec": {
   "display_name": "Python 3",
   "language": "python",
   "name": "python3"
  },
  "language_info": {
   "codemirror_mode": {
    "name": "ipython",
    "version": 3
   },
   "file_extension": ".py",
   "mimetype": "text/x-python",
   "name": "python",
   "nbconvert_exporter": "python",
   "pygments_lexer": "ipython3",
   "version": "3.6.2"
  }
 },
 "nbformat": 4,
 "nbformat_minor": 2
}
